{
  "nbformat": 4,
  "nbformat_minor": 0,
  "metadata": {
    "kernelspec": {
      "language": "python",
      "display_name": "Python 3",
      "name": "python3"
    },
    "language_info": {
      "name": "python",
      "version": "3.7.10",
      "mimetype": "text/x-python",
      "codemirror_mode": {
        "name": "ipython",
        "version": 3
      },
      "pygments_lexer": "ipython3",
      "nbconvert_exporter": "python",
      "file_extension": ".py"
    },
    "colab": {
      "provenance": [],
      "collapsed_sections": [
        "ijT4ueHNfiMW",
        "3VsAsjPZfiMZ",
        "sXsod2oqfiMd",
        "LfLez57kfiMg"
      ],
      "machine_shape": "hm"
    },
    "accelerator": "GPU"
  },
  "cells": [
    {
      "cell_type": "code",
      "metadata": {
        "colab": {
          "base_uri": "https://localhost:8080/"
        },
        "id": "fT0XbCf9f3hR",
        "outputId": "d90af64c-1126-4d97-c69c-b3c443f8fd52"
      },
      "source": [
        "from google.colab import drive\n",
        "drive.mount('/content/drive')"
      ],
      "execution_count": null,
      "outputs": [
        {
          "output_type": "stream",
          "text": [
            "Drive already mounted at /content/drive; to attempt to forcibly remount, call drive.mount(\"/content/drive\", force_remount=True).\n"
          ],
          "name": "stdout"
        }
      ]
    },
    {
      "cell_type": "code",
      "metadata": {
        "_uuid": "8f2839f25d086af736a60e9eeb907d3b93b6e0e5",
        "_cell_guid": "b1076dfc-b9ad-4769-8c92-a6c4dae69d19",
        "trusted": true,
        "colab": {
          "base_uri": "https://localhost:8080/"
        },
        "id": "3rdw230SfiKz",
        "outputId": "613bb4a7-adea-4d75-e10c-a59d5401cbbe"
      },
      "source": [
        "!pip install transformers"
      ],
      "execution_count": null,
      "outputs": [
        {
          "output_type": "stream",
          "text": [
            "Requirement already satisfied: transformers in /usr/local/lib/python3.7/dist-packages (4.5.1)\n",
            "Requirement already satisfied: filelock in /usr/local/lib/python3.7/dist-packages (from transformers) (3.0.12)\n",
            "Requirement already satisfied: packaging in /usr/local/lib/python3.7/dist-packages (from transformers) (20.9)\n",
            "Requirement already satisfied: requests in /usr/local/lib/python3.7/dist-packages (from transformers) (2.23.0)\n",
            "Requirement already satisfied: importlib-metadata; python_version < \"3.8\" in /usr/local/lib/python3.7/dist-packages (from transformers) (3.10.1)\n",
            "Requirement already satisfied: numpy>=1.17 in /usr/local/lib/python3.7/dist-packages (from transformers) (1.19.5)\n",
            "Requirement already satisfied: regex!=2019.12.17 in /usr/local/lib/python3.7/dist-packages (from transformers) (2019.12.20)\n",
            "Requirement already satisfied: sacremoses in /usr/local/lib/python3.7/dist-packages (from transformers) (0.0.45)\n",
            "Requirement already satisfied: tokenizers<0.11,>=0.10.1 in /usr/local/lib/python3.7/dist-packages (from transformers) (0.10.2)\n",
            "Requirement already satisfied: tqdm>=4.27 in /usr/local/lib/python3.7/dist-packages (from transformers) (4.41.1)\n",
            "Requirement already satisfied: pyparsing>=2.0.2 in /usr/local/lib/python3.7/dist-packages (from packaging->transformers) (2.4.7)\n",
            "Requirement already satisfied: idna<3,>=2.5 in /usr/local/lib/python3.7/dist-packages (from requests->transformers) (2.10)\n",
            "Requirement already satisfied: chardet<4,>=3.0.2 in /usr/local/lib/python3.7/dist-packages (from requests->transformers) (3.0.4)\n",
            "Requirement already satisfied: certifi>=2017.4.17 in /usr/local/lib/python3.7/dist-packages (from requests->transformers) (2020.12.5)\n",
            "Requirement already satisfied: urllib3!=1.25.0,!=1.25.1,<1.26,>=1.21.1 in /usr/local/lib/python3.7/dist-packages (from requests->transformers) (1.24.3)\n",
            "Requirement already satisfied: typing-extensions>=3.6.4; python_version < \"3.8\" in /usr/local/lib/python3.7/dist-packages (from importlib-metadata; python_version < \"3.8\"->transformers) (3.7.4.3)\n",
            "Requirement already satisfied: zipp>=0.5 in /usr/local/lib/python3.7/dist-packages (from importlib-metadata; python_version < \"3.8\"->transformers) (3.4.1)\n",
            "Requirement already satisfied: joblib in /usr/local/lib/python3.7/dist-packages (from sacremoses->transformers) (1.0.1)\n",
            "Requirement already satisfied: six in /usr/local/lib/python3.7/dist-packages (from sacremoses->transformers) (1.15.0)\n",
            "Requirement already satisfied: click in /usr/local/lib/python3.7/dist-packages (from sacremoses->transformers) (7.1.2)\n"
          ],
          "name": "stdout"
        }
      ]
    },
    {
      "cell_type": "code",
      "metadata": {
        "trusted": true,
        "colab": {
          "base_uri": "https://localhost:8080/"
        },
        "id": "bbQmgFHmfiLn",
        "outputId": "8d332e0f-ceb8-4bcc-88d6-51f7549708b2"
      },
      "source": [
        "!pip install pyarabic"
      ],
      "execution_count": null,
      "outputs": [
        {
          "output_type": "stream",
          "text": [
            "Requirement already satisfied: pyarabic in /usr/local/lib/python3.7/dist-packages (0.6.10)\n"
          ],
          "name": "stdout"
        }
      ]
    },
    {
      "cell_type": "code",
      "metadata": {
        "trusted": true,
        "colab": {
          "base_uri": "https://localhost:8080/"
        },
        "id": "sfjdSOGPfiLr",
        "outputId": "9a1e6f12-66ce-4e16-c5f5-91bd59741fa7"
      },
      "source": [
        "!pip install farasapy"
      ],
      "execution_count": null,
      "outputs": [
        {
          "output_type": "stream",
          "text": [
            "Requirement already satisfied: farasapy in /usr/local/lib/python3.7/dist-packages (0.0.13)\n",
            "Requirement already satisfied: tqdm in /usr/local/lib/python3.7/dist-packages (from farasapy) (4.41.1)\n",
            "Requirement already satisfied: requests in /usr/local/lib/python3.7/dist-packages (from farasapy) (2.23.0)\n",
            "Requirement already satisfied: idna<3,>=2.5 in /usr/local/lib/python3.7/dist-packages (from requests->farasapy) (2.10)\n",
            "Requirement already satisfied: certifi>=2017.4.17 in /usr/local/lib/python3.7/dist-packages (from requests->farasapy) (2020.12.5)\n",
            "Requirement already satisfied: chardet<4,>=3.0.2 in /usr/local/lib/python3.7/dist-packages (from requests->farasapy) (3.0.4)\n",
            "Requirement already satisfied: urllib3!=1.25.0,!=1.25.1,<1.26,>=1.21.1 in /usr/local/lib/python3.7/dist-packages (from requests->farasapy) (1.24.3)\n"
          ],
          "name": "stdout"
        }
      ]
    },
    {
      "cell_type": "code",
      "metadata": {
        "trusted": true,
        "colab": {
          "base_uri": "https://localhost:8080/"
        },
        "id": "D18-UfPEfiLv",
        "outputId": "53cb3b9a-3d16-4fef-e71c-d2b012c5cc54"
      },
      "source": [
        "!git clone https://github.com/aub-mind/arabert"
      ],
      "execution_count": null,
      "outputs": [
        {
          "output_type": "stream",
          "text": [
            "fatal: destination path 'arabert' already exists and is not an empty directory.\n"
          ],
          "name": "stdout"
        }
      ]
    },
    {
      "cell_type": "code",
      "metadata": {
        "trusted": true,
        "colab": {
          "base_uri": "https://localhost:8080/"
        },
        "id": "9CYAFFPmfiLy",
        "outputId": "df91249b-b35e-4240-d1f3-14a9b8aa57c5"
      },
      "source": [
        "!pip install demoji"
      ],
      "execution_count": null,
      "outputs": [
        {
          "output_type": "stream",
          "text": [
            "Requirement already satisfied: demoji in /usr/local/lib/python3.7/dist-packages (0.4.0)\n",
            "Requirement already satisfied: requests<3.0.0 in /usr/local/lib/python3.7/dist-packages (from demoji) (2.23.0)\n",
            "Requirement already satisfied: colorama in /usr/local/lib/python3.7/dist-packages (from demoji) (0.4.4)\n",
            "Requirement already satisfied: idna<3,>=2.5 in /usr/local/lib/python3.7/dist-packages (from requests<3.0.0->demoji) (2.10)\n",
            "Requirement already satisfied: urllib3!=1.25.0,!=1.25.1,<1.26,>=1.21.1 in /usr/local/lib/python3.7/dist-packages (from requests<3.0.0->demoji) (1.24.3)\n",
            "Requirement already satisfied: chardet<4,>=3.0.2 in /usr/local/lib/python3.7/dist-packages (from requests<3.0.0->demoji) (3.0.4)\n",
            "Requirement already satisfied: certifi>=2017.4.17 in /usr/local/lib/python3.7/dist-packages (from requests<3.0.0->demoji) (2020.12.5)\n"
          ],
          "name": "stdout"
        }
      ]
    },
    {
      "cell_type": "code",
      "metadata": {
        "trusted": true,
        "id": "-oZNdz37fiL0"
      },
      "source": [
        "import numpy as np\n",
        "import matplotlib.pyplot as plt\n",
        "\n",
        "# Load Huggingface transformers\n",
        "from transformers import TFBertModel,  BertConfig, BertTokenizerFast\n",
        "from arabert.preprocess import ArabertPreprocessor\n",
        "\n",
        "import pandas as p\n",
        "import re\n",
        "import demoji\n",
        "\n",
        "# Then what you need from tensorflow.keras\n",
        "import tensorflow as tf\n",
        "from tensorflow.keras import layers\n",
        "from tensorflow.keras.layers import Input, Dropout, Dense, LSTM, Bidirectional, BatchNormalization, Attention, GRU\n",
        "from tensorflow.keras.models import Model\n",
        "from tensorflow.keras.optimizers import Adam\n",
        "from tensorflow.keras.initializers import TruncatedNormal, GlorotUniform\n",
        "\n",
        "from sklearn.metrics import f1_score"
      ],
      "execution_count": null,
      "outputs": []
    },
    {
      "cell_type": "code",
      "metadata": {
        "trusted": true,
        "id": "C5DWC4ZVfiL3"
      },
      "source": [
        "def printHistory(history):\n",
        "    for key in history.history:\n",
        "        print(key, ': ', history.history[key][-1])"
      ],
      "execution_count": null,
      "outputs": []
    },
    {
      "cell_type": "code",
      "metadata": {
        "trusted": true,
        "id": "uQx20vQRfiL6"
      },
      "source": [
        "def jaccardAccuracy(y_true, y_pred):\n",
        "    #print('step 0')\n",
        "    y_pred = tf.cast(y_pred + 0.5, tf.int32)\n",
        "    y_true = tf.cast(y_true , tf.int32)\n",
        "    #print('step 1')\n",
        "    intersiction = tf.bitwise.bitwise_and(y_true, y_pred)\n",
        "    union = tf.bitwise.bitwise_or(y_true, y_pred)\n",
        "    #print('step 2')\n",
        "    num_intersiction = tf.math.reduce_sum(intersiction, axis=1)\n",
        "    num_intersiction = tf.cast(num_intersiction, dtype=tf.float32)\n",
        "    num_union = tf.math.reduce_sum(union, axis=1)\n",
        "    num_union = tf.cast(num_union, dtype=tf.float32)\n",
        "    #print('step 3')\n",
        "\n",
        "    result = tf.reduce_mean(tf.math.divide_no_nan(num_intersiction,num_union))\n",
        "    return result"
      ],
      "execution_count": null,
      "outputs": []
    },
    {
      "cell_type": "code",
      "metadata": {
        "trusted": true,
        "id": "nSoxLLt2fiL8"
      },
      "source": [
        "def plotHistory(history, plot_type='loss', ylim = [0,1]):\n",
        "    plt.plot(history.history[plot_type], label=plot_type)\n",
        "    plt.plot(history.history['val_'+plot_type], label = 'val_'+plot_type)\n",
        "    plt.xlabel('Epoch')\n",
        "    plt.ylabel(plot_type)\n",
        "    plt.ylim(ylim)\n",
        "    plt.legend(loc='lower right')\n",
        "    plt.title(plot_type + ' Graph')\n",
        "    plt.show()"
      ],
      "execution_count": null,
      "outputs": []
    },
    {
      "cell_type": "code",
      "metadata": {
        "trusted": true,
        "id": "dD7ESDtgfiMA"
      },
      "source": [
        "def printEmotionAccuracy(y, y_pred, classes):\n",
        "    for key in classes:\n",
        "        accuracy = (y[:,classes[key]] == y_pred[:,classes[key]]).sum() / y.shape[0] * 100\n",
        "        print(key, ': ', accuracy, '%')\n"
      ],
      "execution_count": null,
      "outputs": []
    },
    {
      "cell_type": "code",
      "metadata": {
        "trusted": true,
        "id": "3Gm982wNfiMC"
      },
      "source": [
        "def printEmotionF1(y, y_pred, classes):\n",
        "    for key in classes:\n",
        "        f1 = f1_score(y[:,classes[key]], y_pred[:,classes[key]])\n",
        "        print(key, ': ', f1*100, '%')\n"
      ],
      "execution_count": null,
      "outputs": []
    },
    {
      "cell_type": "code",
      "metadata": {
        "trusted": true,
        "id": "lvMN-AJRfiML"
      },
      "source": [
        "def printJaccardAccuracy(y, y_pred):\n",
        "    intersection = np.logical_and(y, y_pred).sum(-1)\n",
        "    union = np.logical_or(y, y_pred).sum(-1)\n",
        "    accuracy = ((intersection / union).sum()) / union.shape[0] * 100\n",
        "    return accuracy\n",
        ""
      ],
      "execution_count": null,
      "outputs": []
    },
    {
      "cell_type": "code",
      "metadata": {
        "trusted": true,
        "id": "8xzGap0UfiMM"
      },
      "source": [
        "def data_cleaning(data):\n",
        "    line = \"\"\n",
        "    lines = []\n",
        "    demoji.download_codes()\n",
        "    for index, row in data.iterrows():\n",
        "        line = re.sub(r'#', '', str(row[\"tweet\"]))\n",
        "        line = re.sub(r'https?:\\/\\/.*[\\r\\n]*', 'URL', line)\n",
        "        line = re.sub(\"@[A-Za-z0-9-_]+\", \"@USER\",line)\n",
        "        line = row[\"tweet\"].replace('\\r', ' ')\n",
        "        line = row[\"tweet\"].replace('\\n', ' ')\n",
        "        line = demoji.replace(line, \"\")\n",
        "        lines.append(line)\n",
        "\n",
        "    data[\"cleaned_tweet\"] = lines\n",
        "    del data['tweet']\n",
        "\n",
        "    return data\n"
      ],
      "execution_count": null,
      "outputs": []
    },
    {
      "cell_type": "code",
      "metadata": {
        "trusted": true,
        "colab": {
          "base_uri": "https://localhost:8080/"
        },
        "id": "_vCCVv_PfiMO",
        "outputId": "808a2cf3-b5de-4fc4-9c57-1393f6b32935"
      },
      "source": [
        "names = [ 'id','tweet','anger','anticipation', 'disgust','fear','joy','love','optimism','pessimism', 'sadness','surprise','trust']\n",
        "\n",
        "data = p.read_csv(\"/content/drive/MyDrive/research/Emotion detection on arabic/SemEval2018-Task1-all-data/Arabic/E-c/2018-E-c-Ar-train.txt\",\n",
        "                  names = names ,\n",
        "                  sep = '\\t',\n",
        "                  lineterminator= '\\n',\n",
        "                  header=0)\n",
        "dev_data = p.read_csv(\"/content/drive/MyDrive/research/Emotion detection on arabic/SemEval2018-Task1-all-data/Arabic/E-c/2018-E-c-Ar-dev.txt\",\n",
        "                      names = names ,\n",
        "                      sep = '\\t',\n",
        "                      lineterminator= '\\n',\n",
        "                      header=0)\n",
        "\n",
        "data = data_cleaning(data)\n",
        "dev_data = data_cleaning(dev_data)"
      ],
      "execution_count": null,
      "outputs": [
        {
          "output_type": "stream",
          "text": [
            "Downloading emoji data ...\n",
            "... OK (Got response in 0.37 seconds)\n",
            "Writing emoji data to /root/.demoji/codes.json ...\n",
            "... OK\n",
            "Downloading emoji data ...\n",
            "... OK (Got response in 0.36 seconds)\n",
            "Writing emoji data to /root/.demoji/codes.json ...\n",
            "... OK\n"
          ],
          "name": "stdout"
        }
      ]
    },
    {
      "cell_type": "code",
      "metadata": {
        "trusted": true,
        "colab": {
          "base_uri": "https://localhost:8080/"
        },
        "id": "uIb2FyXYfiMP",
        "outputId": "e2f02fa6-d9f7-4b80-d3c1-6dc4cd96b6b6"
      },
      "source": [
        "num_sample = data.shape[0]\n",
        "label_frequent = data.iloc[:,1:-1].sum().sort_values(ascending=False)\n",
        "print('Number of Train Samples: ', num_sample)\n",
        "print('Emotion Frequent on Train Samples')\n",
        "print(label_frequent)\n",
        "\n",
        "print('#################')\n",
        "dev_num_sample = dev_data.shape[0]\n",
        "dev_label_frequent = dev_data.iloc[:,1:-1].sum().sort_values(ascending=False)\n",
        "print('Number of Valid Samples: ', dev_num_sample)\n",
        "print('Emotion Frequent on Valid Samples')\n",
        "print(dev_label_frequent)"
      ],
      "execution_count": null,
      "outputs": [
        {
          "output_type": "stream",
          "text": [
            "Number of Train Samples:  2278\n",
            "Emotion Frequent on Train Samples\n",
            "anger           899\n",
            "sadness         842\n",
            "joy             605\n",
            "love            562\n",
            "optimism        561\n",
            "pessimism       499\n",
            "disgust         433\n",
            "fear            391\n",
            "anticipation    206\n",
            "trust           120\n",
            "surprise         47\n",
            "dtype: int64\n",
            "#################\n",
            "Number of Valid Samples:  585\n",
            "Emotion Frequent on Valid Samples\n",
            "sadness         217\n",
            "anger           215\n",
            "joy             179\n",
            "love            175\n",
            "optimism        169\n",
            "pessimism       125\n",
            "disgust         106\n",
            "fear             94\n",
            "anticipation     57\n",
            "trust            36\n",
            "surprise         13\n",
            "dtype: int64\n"
          ],
          "name": "stdout"
        }
      ]
    },
    {
      "cell_type": "code",
      "metadata": {
        "trusted": true,
        "colab": {
          "base_uri": "https://localhost:8080/"
        },
        "id": "AHpxltNPfiMQ",
        "outputId": "3ba75df4-73be-4928-ec4c-c2c58df52b55"
      },
      "source": [
        "label_frequent.loc['anger']"
      ],
      "execution_count": null,
      "outputs": [
        {
          "output_type": "execute_result",
          "data": {
            "text/plain": [
              "899"
            ]
          },
          "metadata": {
            "tags": []
          },
          "execution_count": 40
        }
      ]
    },
    {
      "cell_type": "code",
      "metadata": {
        "trusted": true,
        "colab": {
          "base_uri": "https://localhost:8080/"
        },
        "id": "9cYxGQm_fiMS",
        "outputId": "4e0bb5b7-7bad-499c-843e-c3497a368e97"
      },
      "source": [
        "model_name = \"aubmindlab/bert-base-arabertv2\"\n",
        "arabert_prep = ArabertPreprocessor(model_name=model_name)\n",
        "\n",
        "data['cleaned_tweet'] = data['cleaned_tweet'].apply(lambda x: arabert_prep.preprocess(x))\n",
        "\n",
        "dev_data['cleaned_tweet'] = dev_data['cleaned_tweet'].apply(lambda x: arabert_prep.preprocess(x))"
      ],
      "execution_count": null,
      "outputs": [
        {
          "output_type": "stream",
          "text": [
            "[2021-05-08 21:37:11,560 - farasapy_logger - WARNING]: Be careful with large lines as they may break on interactive mode. You may switch to Standalone mode for such cases.\n"
          ],
          "name": "stderr"
        }
      ]
    },
    {
      "cell_type": "code",
      "metadata": {
        "trusted": true,
        "colab": {
          "base_uri": "https://localhost:8080/"
        },
        "id": "qytt0dHNfiMT",
        "outputId": "78ebfa44-4c1b-4f5d-ebb0-77068a732083"
      },
      "source": [
        "model_name = 'asafaya/bert-mini-arabic'\n",
        "task_name = 'classification'\n",
        "\n",
        "# Load transformers config and set output_hidden_states to False\n",
        "config = BertConfig.from_pretrained(model_name)\n",
        "config.output_hidden_states = True\n",
        "\n",
        "tokenizer = BertTokenizerFast.from_pretrained(pretrained_model_name_or_path = model_name, config = config)\n",
        "\n",
        "# Load the Transformers BERT model\n",
        "transformer_model = TFBertModel.from_pretrained(model_name, config = config)"
      ],
      "execution_count": null,
      "outputs": [
        {
          "output_type": "stream",
          "text": [
            "Some layers from the model checkpoint at asafaya/bert-mini-arabic were not used when initializing TFBertModel: ['mlm___cls']\n",
            "- This IS expected if you are initializing TFBertModel from the checkpoint of a model trained on another task or with another architecture (e.g. initializing a BertForSequenceClassification model from a BertForPreTraining model).\n",
            "- This IS NOT expected if you are initializing TFBertModel from the checkpoint of a model that you expect to be exactly identical (initializing a BertForSequenceClassification model from a BertForSequenceClassification model).\n",
            "All the layers of TFBertModel were initialized from the model checkpoint at asafaya/bert-mini-arabic.\n",
            "If your task is similar to the task the model of the checkpoint was trained on, you can already use TFBertModel for predictions without further training.\n"
          ],
          "name": "stderr"
        }
      ]
    },
    {
      "cell_type": "code",
      "metadata": {
        "trusted": true,
        "colab": {
          "base_uri": "https://localhost:8080/"
        },
        "id": "K99mQkI5fiMU",
        "outputId": "9893b0ee-1fbe-46a6-9ef1-d40f5c4ee831"
      },
      "source": [
        "print(config)"
      ],
      "execution_count": null,
      "outputs": [
        {
          "output_type": "stream",
          "text": [
            "BertConfig {\n",
            "  \"_name_or_path\": \"asafaya/bert-mini-arabic\",\n",
            "  \"_num_labels\": 2,\n",
            "  \"architectures\": [\n",
            "    \"BertForMaskedLM\"\n",
            "  ],\n",
            "  \"attention_probs_dropout_prob\": 0.1,\n",
            "  \"gradient_checkpointing\": false,\n",
            "  \"hidden_act\": \"gelu\",\n",
            "  \"hidden_dropout_prob\": 0.1,\n",
            "  \"hidden_size\": 256,\n",
            "  \"initializer_range\": 0.02,\n",
            "  \"intermediate_size\": 1024,\n",
            "  \"layer_norm_eps\": 1e-12,\n",
            "  \"max_position_embeddings\": 512,\n",
            "  \"model_type\": \"bert\",\n",
            "  \"num_attention_heads\": 4,\n",
            "  \"num_hidden_layers\": 4,\n",
            "  \"output_hidden_states\": true,\n",
            "  \"output_past\": true,\n",
            "  \"pad_token_id\": 0,\n",
            "  \"position_embedding_type\": \"absolute\",\n",
            "  \"transformers_version\": \"4.5.1\",\n",
            "  \"type_vocab_size\": 2,\n",
            "  \"use_cache\": true,\n",
            "  \"vocab_size\": 32000\n",
            "}\n",
            "\n"
          ],
          "name": "stdout"
        }
      ]
    },
    {
      "cell_type": "code",
      "metadata": {
        "trusted": true,
        "id": "2nm_GuY9fiMV"
      },
      "source": [
        "# Tokenize the input (takes some time)\n",
        "max_length = max(len(x) for x in data['cleaned_tweet'].to_list())\n",
        "x = tokenizer.batch_encode_plus(\n",
        "    batch_text_or_text_pairs=data['cleaned_tweet'].to_list(),\n",
        "    add_special_tokens=True,\n",
        "    max_length=max_length,\n",
        "    truncation=True,\n",
        "    padding='max_length',\n",
        "    return_tensors='tf',\n",
        "    return_token_type_ids = False,\n",
        "    return_attention_mask = False,\n",
        "    verbose = True)\n",
        "\n",
        "dev_x = tokenizer.batch_encode_plus(\n",
        "    batch_text_or_text_pairs=dev_data['cleaned_tweet'].to_list(),\n",
        "    add_special_tokens=True,\n",
        "    max_length=max_length,\n",
        "    truncation=True,\n",
        "    padding='max_length',\n",
        "    return_tensors='tf',\n",
        "    return_token_type_ids = False,\n",
        "    return_attention_mask = False,\n",
        "    verbose = True)"
      ],
      "execution_count": null,
      "outputs": []
    },
    {
      "cell_type": "code",
      "metadata": {
        "trusted": true,
        "id": "94rEpbLYfiMV"
      },
      "source": [
        "classes = {\n",
        "    'anger' : 0,\n",
        "    'anticipation' : 1,\n",
        "    'disgust' : 2,\n",
        "    'fear' : 3,\n",
        "    'joy' : 4,\n",
        "    'love' : 5,\n",
        "    'optimism' : 6,\n",
        "    'pessimism' : 7,\n",
        "    'sadness' : 8,\n",
        "    'surprise' : 9,\n",
        "    'trust' : 10,\n",
        "}\n",
        "y = np.zeros((data.shape[0], 11))\n",
        "for key in classes:\n",
        "    y[:,classes[key]] = data.loc[:, key].values\n",
        "\n",
        "dev_y = np.zeros((dev_data.shape[0], 11))\n",
        "for key in classes:\n",
        "    dev_y[:,classes[key]] = dev_data.loc[:, key].values"
      ],
      "execution_count": null,
      "outputs": []
    },
    {
      "cell_type": "markdown",
      "metadata": {
        "id": "ijT4ueHNfiMW"
      },
      "source": [
        "# Use the last hidden state of BERT as word embbeding"
      ]
    },
    {
      "cell_type": "code",
      "metadata": {
        "trusted": true,
        "id": "6GtGhfPufiMW"
      },
      "source": [
        "class_weights = {}\n",
        "for key in classes:\n",
        "    class_weights[classes[key]] = num_sample / (label_frequent.loc[key])\n",
        "print(class_weights)"
      ],
      "execution_count": null,
      "outputs": []
    },
    {
      "cell_type": "code",
      "metadata": {
        "trusted": true,
        "id": "fMIJDU6ZfiMX"
      },
      "source": [
        "# Load the MainLayer\n",
        "bert = transformer_model.layers[0]\n",
        "bert.trainable = False\n",
        "\n",
        "# Build your model input\n",
        "input_ids = Input(shape=(max_length,), name='input_ids', dtype='int32')\n",
        "inputs = {'input_ids': input_ids}\n",
        "\n",
        "# Load the Transformers BERT model as a layer in a Keras model\n",
        "bert_model = bert(inputs)[0]\n",
        "batch_normalization_1 =  BatchNormalization()(bert_model)\n",
        "\n",
        "biLSTM = Bidirectional(LSTM(128, return_sequences=False), merge_mode='concat')(batch_normalization_1)\n",
        "batch_normalization_2 = BatchNormalization()(biLSTM)\n",
        "\n",
        "#biLSTM_2 = Bidirectional(LSTM(512, return_sequences=False), merge_mode='concat')(batch_normalization_2)\n",
        "#batch_normalization_3 = BatchNormalization()(biLSTM_2)\n",
        "\n",
        "dense = Dense(units=256, activation='tanh', kernel_initializer=TruncatedNormal(stddev=config.initializer_range))(batch_normalization_2)\n",
        "batch_normalization_4 = BatchNormalization()(dense)\n",
        "\n",
        "# Then build your model output\n",
        "outputs = Dense(units=11,activation='sigmoid', kernel_initializer=TruncatedNormal(stddev=config.initializer_range), name='outputs')(batch_normalization_4)\n",
        "\n",
        "\n",
        "\n",
        "# And combine it all in a model object\n",
        "model = Model(inputs=inputs, outputs=outputs, name='BERT_MultiLabel_MultiClass')\n",
        "\n",
        "\n",
        "\n",
        "# Take a look at the model\n",
        "model.summary()\n",
        "\n",
        "# Set an optimizer\n",
        "optimizer = Adam(learning_rate=1e-03)\n",
        "\n",
        "# Compile the model\n",
        "model.compile(\n",
        "    optimizer = optimizer,\n",
        "    loss = 'binary_crossentropy',\n",
        "    metrics = [jaccardAccuracy])\n",
        "\n",
        "# Fit the model\n",
        "history = model.fit(\n",
        "    x={'input_ids': x['input_ids']},\n",
        "    y=y,\n",
        "    class_weight=class_weights,\n",
        "    validation_data = ({'input_ids': dev_x['input_ids']},dev_y),\n",
        "    batch_size=16,\n",
        "    epochs=10)"
      ],
      "execution_count": null,
      "outputs": []
    },
    {
      "cell_type": "code",
      "metadata": {
        "trusted": true,
        "id": "v-I7iu-HfiMX"
      },
      "source": [
        "printHistory(history)"
      ],
      "execution_count": null,
      "outputs": []
    },
    {
      "cell_type": "code",
      "metadata": {
        "trusted": true,
        "id": "suUvyn25fiMY"
      },
      "source": [
        "plotHistory(history, plot_type='loss', ylim = [0,3])"
      ],
      "execution_count": null,
      "outputs": []
    },
    {
      "cell_type": "code",
      "metadata": {
        "trusted": true,
        "id": "JYa74hFUfiMY"
      },
      "source": [
        "plotHistory(history, plot_type='jaccardAccuracy')"
      ],
      "execution_count": null,
      "outputs": []
    },
    {
      "cell_type": "code",
      "metadata": {
        "trusted": true,
        "id": "2rcTZAz_fiMY"
      },
      "source": [
        "y_pred = model.predict({'input_ids': x['input_ids']})\n",
        "y_pred = y_pred >= 0.5\n",
        "print('Emotion Train F1: ')\n",
        "printEmotionF1(y, y_pred, classes)\n",
        "\n",
        "print('###############')\n",
        "\n",
        "dev_y_pred = model.predict({'input_ids': dev_x['input_ids']})\n",
        "dev_y_pred = dev_y_pred >= 0.5\n",
        "print('Emotion Valid F1: ')\n",
        "printEmotionF1(dev_y, dev_y_pred, classes)\n"
      ],
      "execution_count": null,
      "outputs": []
    },
    {
      "cell_type": "code",
      "metadata": {
        "trusted": true,
        "id": "gZorOYAvfiMY"
      },
      "source": [
        "printJaccardAccuracy(y, y_pred)"
      ],
      "execution_count": null,
      "outputs": []
    },
    {
      "cell_type": "markdown",
      "metadata": {
        "id": "3VsAsjPZfiMZ"
      },
      "source": [
        "# Use the last hidden state of BERT as word embbeding with KLDivergence Loss"
      ]
    },
    {
      "cell_type": "code",
      "metadata": {
        "trusted": true,
        "id": "nLwmhZvefiMZ"
      },
      "source": [
        "def abs_KL_div(y_true, y_pred):\n",
        "    y_true = tf.clip_by_value(y_true, tf.keras.backend.epsilon(), 100)\n",
        "    y_pred = tf.clip_by_value(y_pred, tf.keras.backend.epsilon(), 100)\n",
        "    return tf.math.reduce_sum(tf.math.abs( (y_true- y_pred) * (tf.math.log(y_true / y_pred))), axis=-1)"
      ],
      "execution_count": null,
      "outputs": []
    },
    {
      "cell_type": "code",
      "metadata": {
        "trusted": true,
        "id": "3WSEtYcjfiMa"
      },
      "source": [
        "# Load the MainLayer\n",
        "bert = transformer_model.layers[0]\n",
        "bert.trainable = False\n",
        "\n",
        "# Build your model input\n",
        "input_ids = Input(shape=(max_length,), name='input_ids', dtype='int32')\n",
        "inputs = {'input_ids': input_ids}\n",
        "\n",
        "# Load the Transformers BERT model as a layer in a Keras model\n",
        "bert_model = bert(inputs)[0]\n",
        "batch_normalization_1 =  BatchNormalization()(bert_model)\n",
        "\n",
        "biLSTM = Bidirectional(LSTM(512, return_sequences=False), merge_mode='concat')(batch_normalization_1)\n",
        "batch_normalization_2 = BatchNormalization()(biLSTM)\n",
        "\n",
        "#biLSTM_2 = Bidirectional(LSTM(512, return_sequences=False), merge_mode='concat')(batch_normalization_2)\n",
        "#batch_normalization_3 = BatchNormalization()(biLSTM_2)\n",
        "\n",
        "#dense = Dense(units=1024, activation='relu', kernel_initializer=TruncatedNormal(stddev=config.initializer_range))(batch_normalization_2)\n",
        "#batch_normalization_4 = BatchNormalization()(dense)\n",
        "\n",
        "# Then build your model output\n",
        "outputs = Dense(units=11,activation='sigmoid', kernel_initializer=TruncatedNormal(stddev=config.initializer_range), name='outputs')(batch_normalization_2)\n",
        "\n",
        "\n",
        "\n",
        "# And combine it all in a model object\n",
        "model = Model(inputs=inputs, outputs=outputs, name='BERT_MultiLabel_MultiClass')\n",
        "\n",
        "\n",
        "\n",
        "# Take a look at the model\n",
        "model.summary()\n",
        "\n",
        "# Set an optimizer\n",
        "optimizer = Adam(learning_rate=5e-04)\n",
        "\n",
        "# Compile the model\n",
        "model.compile(\n",
        "    optimizer = optimizer,\n",
        "    loss = abs_KL_div,\n",
        "    metrics = [jaccardAccuracy])\n",
        "\n",
        "# Fit the model\n",
        "history = model.fit(\n",
        "    x={'input_ids': x['input_ids']},\n",
        "    y=y,\n",
        "    validation_data = ({'input_ids': dev_x['input_ids']},dev_y),\n",
        "    batch_size=32,\n",
        "    epochs=10)"
      ],
      "execution_count": null,
      "outputs": []
    },
    {
      "cell_type": "code",
      "metadata": {
        "trusted": true,
        "id": "V9937W1gfiMa"
      },
      "source": [
        "printHistory(history)"
      ],
      "execution_count": null,
      "outputs": []
    },
    {
      "cell_type": "code",
      "metadata": {
        "trusted": true,
        "id": "CNcClNnEfiMa"
      },
      "source": [
        "plotHistory(history, plot_type='loss', ylim=[0, 70])"
      ],
      "execution_count": null,
      "outputs": []
    },
    {
      "cell_type": "code",
      "metadata": {
        "trusted": true,
        "id": "zHh1_2a2fiMc"
      },
      "source": [
        "plotHistory(history, plot_type='jaccardAccuracy')"
      ],
      "execution_count": null,
      "outputs": []
    },
    {
      "cell_type": "code",
      "metadata": {
        "trusted": true,
        "id": "O_b3SNlefiMc"
      },
      "source": [
        "y_pred = model.predict({'input_ids': x['input_ids']})\n",
        "y_pred = y_pred >= 0.5\n",
        "print('Emotion Train F1: ')\n",
        "printEmotionF1(y, y_pred, classes)\n",
        "\n",
        "print('###############')\n",
        "\n",
        "dev_y_pred = model.predict({'input_ids': dev_x['input_ids']})\n",
        "dev_y_pred = dev_y_pred >= 0.5\n",
        "print('Emotion Valid F1: ')\n",
        "printEmotionF1(dev_y, dev_y_pred, classes)\n"
      ],
      "execution_count": null,
      "outputs": []
    },
    {
      "cell_type": "markdown",
      "metadata": {
        "id": "sXsod2oqfiMd"
      },
      "source": [
        "# Use second-to-last hidden state of BERT as word embedding"
      ]
    },
    {
      "cell_type": "code",
      "metadata": {
        "trusted": true,
        "id": "BY_HkGmJfiMd"
      },
      "source": [
        "# Load the MainLayer\n",
        "bert = transformer_model.layers[0]\n",
        "bert.trainable = False\n",
        "\n",
        "# Build your model input\n",
        "input_ids = Input(shape=(max_length,), name='input_ids', dtype='int32')\n",
        "inputs = {'input_ids': input_ids}\n",
        "\n",
        "# Load the Transformers BERT model as a layer in a Keras model\n",
        "bert_model = bert(inputs)[2][-2]\n",
        "batch_normalization_1 =  BatchNormalization()(bert_model)\n",
        "\n",
        "biLSTM = Bidirectional(LSTM(512, return_sequences=False), merge_mode='concat')(batch_normalization_1)\n",
        "batch_normalization_2 = BatchNormalization()(biLSTM)\n",
        "\n",
        "#biLSTM_2 = Bidirectional(LSTM(512, return_sequences=False), merge_mode='concat')(batch_normalization_2)\n",
        "#batch_normalization_3 = BatchNormalization()(biLSTM_2)\n",
        "\n",
        "#dense = Dense(units=1024, activation='relu', kernel_initializer=TruncatedNormal(stddev=config.initializer_range))(batch_normalization_2)\n",
        "#batch_normalization_4 = BatchNormalization()(dense)\n",
        "\n",
        "# Then build your model output\n",
        "outputs = Dense(units=11,activation='sigmoid', kernel_initializer=TruncatedNormal(stddev=config.initializer_range), name='outputs')(batch_normalization_2)\n",
        "\n",
        "\n",
        "\n",
        "# And combine it all in a model object\n",
        "model = Model(inputs=inputs, outputs=outputs, name='BERT_MultiLabel_MultiClass')\n",
        "\n",
        "\n",
        "\n",
        "# Take a look at the model\n",
        "model.summary()\n"
      ],
      "execution_count": null,
      "outputs": []
    },
    {
      "cell_type": "code",
      "metadata": {
        "trusted": true,
        "id": "iZ-XFxmqfiMe"
      },
      "source": [
        "# Set an optimizer\n",
        "optimizer = Adam(learning_rate=5e-05)\n",
        "\n",
        "# Compile the model\n",
        "model.compile(\n",
        "    optimizer = optimizer,\n",
        "    loss = 'binary_crossentropy',\n",
        "    metrics = [jaccardAccuracy])\n",
        "\n",
        "# Fit the model\n",
        "history = model.fit(\n",
        "    x={'input_ids': x['input_ids']},\n",
        "    y=y,\n",
        "    validation_data = ({'input_ids': dev_x['input_ids']},dev_y),\n",
        "    batch_size=32,\n",
        "    epochs=30)"
      ],
      "execution_count": null,
      "outputs": []
    },
    {
      "cell_type": "code",
      "metadata": {
        "trusted": true,
        "id": "KF7yMKqyfiMf"
      },
      "source": [
        "for key in history.history:\n",
        "    print(key, ': ', history.history[key][-1])"
      ],
      "execution_count": null,
      "outputs": []
    },
    {
      "cell_type": "code",
      "metadata": {
        "trusted": true,
        "id": "yTZ1bWU0fiMf"
      },
      "source": [
        "plt.plot(history.history['loss'], label='loss')\n",
        "plt.plot(history.history['val_loss'], label = 'val_loss')\n",
        "plt.xlabel('Epoch')\n",
        "plt.ylabel('Loss')\n",
        "plt.ylim([0, 1])\n",
        "plt.legend(loc='lower right')\n",
        "plt.title('Loss Graph')\n",
        "plt.show()"
      ],
      "execution_count": null,
      "outputs": []
    },
    {
      "cell_type": "code",
      "metadata": {
        "trusted": true,
        "id": "RF9HDxsEfiMg"
      },
      "source": [
        "plt.plot(history.history['jaccardAccuracy'], label='jaccardAccuracy')\n",
        "plt.plot(history.history['val_jaccardAccuracy'], label = 'val_jaccardAccuracy')\n",
        "plt.xlabel('Epoch')\n",
        "plt.ylabel('Accuracy')\n",
        "plt.ylim([0, 1])\n",
        "plt.legend(loc='lower right')\n",
        "plt.title('Jaccard Accuracy Graph')\n",
        "plt.show()"
      ],
      "execution_count": null,
      "outputs": []
    },
    {
      "cell_type": "markdown",
      "metadata": {
        "id": "LfLez57kfiMg"
      },
      "source": [
        "# Attention"
      ]
    },
    {
      "cell_type": "code",
      "metadata": {
        "trusted": true,
        "id": "W4MY69MFfiMh",
        "colab": {
          "base_uri": "https://localhost:8080/",
          "height": 211
        },
        "outputId": "11c1f23a-4e11-40fc-9df7-e5faa265b58a"
      },
      "source": [
        "class AttentionWh(layers.Layer):\n",
        "    def __init__(self, units=256, max_length=1):\n",
        "        super(AttentionWh, self).__init__()\n",
        "        w_init = tf.keras.initializers.GlorotUniform()\n",
        "        self.w = tf.Variable(\n",
        "            initial_value=w_init(shape=(1, 1, units), dtype=\"float32\"),\n",
        "            trainable=True,\n",
        "        )\n",
        "\n",
        "    def call(self, inputs):\n",
        "        #return tf.tile(self.w, [1,max_length,1])\n",
        "        attention = tf.keras.layers.Attention()([tf.tile(self.w, [1,max_length,1]), inputs])\n",
        "        #return tf.math.reduce_sum(attention, axis = 1)\n",
        "\n",
        "        return attention"
      ],
      "execution_count": 1,
      "outputs": [
        {
          "output_type": "error",
          "ename": "NameError",
          "evalue": "name 'layers' is not defined",
          "traceback": [
            "\u001b[0;31m---------------------------------------------------------------------------\u001b[0m",
            "\u001b[0;31mNameError\u001b[0m                                 Traceback (most recent call last)",
            "\u001b[0;32m<ipython-input-1-fc9cc8c708d9>\u001b[0m in \u001b[0;36m<cell line: 1>\u001b[0;34m()\u001b[0m\n\u001b[0;32m----> 1\u001b[0;31m \u001b[0;32mclass\u001b[0m \u001b[0mAttentionWh\u001b[0m\u001b[0;34m(\u001b[0m\u001b[0mlayers\u001b[0m\u001b[0;34m.\u001b[0m\u001b[0mLayer\u001b[0m\u001b[0;34m)\u001b[0m\u001b[0;34m:\u001b[0m\u001b[0;34m\u001b[0m\u001b[0;34m\u001b[0m\u001b[0m\n\u001b[0m\u001b[1;32m      2\u001b[0m     \u001b[0;32mdef\u001b[0m \u001b[0m__init__\u001b[0m\u001b[0;34m(\u001b[0m\u001b[0mself\u001b[0m\u001b[0;34m,\u001b[0m \u001b[0munits\u001b[0m\u001b[0;34m=\u001b[0m\u001b[0;36m256\u001b[0m\u001b[0;34m,\u001b[0m \u001b[0mmax_length\u001b[0m\u001b[0;34m=\u001b[0m\u001b[0;36m1\u001b[0m\u001b[0;34m)\u001b[0m\u001b[0;34m:\u001b[0m\u001b[0;34m\u001b[0m\u001b[0;34m\u001b[0m\u001b[0m\n\u001b[1;32m      3\u001b[0m         \u001b[0msuper\u001b[0m\u001b[0;34m(\u001b[0m\u001b[0mAttentionWh\u001b[0m\u001b[0;34m,\u001b[0m \u001b[0mself\u001b[0m\u001b[0;34m)\u001b[0m\u001b[0;34m.\u001b[0m\u001b[0m__init__\u001b[0m\u001b[0;34m(\u001b[0m\u001b[0;34m)\u001b[0m\u001b[0;34m\u001b[0m\u001b[0;34m\u001b[0m\u001b[0m\n\u001b[1;32m      4\u001b[0m         \u001b[0mw_init\u001b[0m \u001b[0;34m=\u001b[0m \u001b[0mtf\u001b[0m\u001b[0;34m.\u001b[0m\u001b[0mkeras\u001b[0m\u001b[0;34m.\u001b[0m\u001b[0minitializers\u001b[0m\u001b[0;34m.\u001b[0m\u001b[0mGlorotUniform\u001b[0m\u001b[0;34m(\u001b[0m\u001b[0;34m)\u001b[0m\u001b[0;34m\u001b[0m\u001b[0;34m\u001b[0m\u001b[0m\n\u001b[1;32m      5\u001b[0m         self.w = tf.Variable(\n",
            "\u001b[0;31mNameError\u001b[0m: name 'layers' is not defined"
          ]
        }
      ]
    },
    {
      "cell_type": "code",
      "metadata": {
        "trusted": true,
        "id": "6_Zl_1cAfiMh"
      },
      "source": [
        "class_weights = {}\n",
        "for key in classes:\n",
        "    class_weights[classes[key]] = num_sample / (label_frequent.loc[key])\n",
        "print(class_weights)"
      ],
      "execution_count": null,
      "outputs": []
    },
    {
      "cell_type": "code",
      "metadata": {
        "trusted": true,
        "id": "0vEBU3CufiMi"
      },
      "source": [
        "# Load the MainLayer\n",
        "bert = transformer_model.layers[0]\n",
        "bert.trainable = False\n",
        "\n",
        "# Build your model input\n",
        "input_ids = Input(shape=(max_length,), name='input_ids', dtype='int32')\n",
        "inputs = {'input_ids': input_ids}\n",
        "\n",
        "# Load the Transformers BERT model as a layer in a Keras model\n",
        "bert_model = bert(inputs)[0]\n",
        "batch_normalization_1 =  BatchNormalization(name='Bert_normalization')(bert_model)\n",
        "\n",
        "attention = AttentionWh(units = config.hidden_size, max_length=max_length)(batch_normalization_1)\n",
        "batch_normalization_atention = BatchNormalization(name='Attention_normalization')(attention)\n",
        "\n",
        "biLSTM = Bidirectional(GRU(64, dropout=0.2, recurrent_dropout=0.2,return_sequences=False), merge_mode='concat')(batch_normalization_atention)\n",
        "batch_normalization_2 = BatchNormalization()(biLSTM)\n",
        "#biLSTM_dropout = Dropout(0.2, name='biLSTM_dropout')(batch_normalization_2)\n",
        "\n",
        "#attention = AttentionWh(units = 2*512, max_length=max_length)(batch_normalization_2)\n",
        "#batch_normalization_atention = BatchNormalization(name='Attention_normalization')(attention)\n",
        "\n",
        "#biLSTM = Bidirectional(LSTM(512, return_sequences=False), merge_mode='concat')(attention)\n",
        "#batch_normalization_2 = BatchNormalization()(biLSTM)\n",
        "\n",
        "#biLSTM_2 = Bidirectional(LSTM(512, return_sequences=False), merge_mode='concat')(batch_normalization_2)\n",
        "#batch_normalization_3 = BatchNormalization()(biLSTM_2)\n",
        "\n",
        "dense = Dense(units=64, activation='relu', name='Dense')(batch_normalization_2)\n",
        "batch_normalization_4 = BatchNormalization(name='Dense_normalization')(dense)\n",
        "#dropout = Dropout(0.2, name='dropout')(batch_normalization_4)\n",
        "\n",
        "# Then build your model output\n",
        "outputs = Dense(units=11,activation='sigmoid',  name='outputs')(batch_normalization_4)\n",
        "\n",
        "\n",
        "\n",
        "# And combine it all in a model object\n",
        "model = Model(inputs=inputs, outputs=outputs, name='BERT_MultiLabel_MultiClass')\n",
        "\n",
        "\n",
        "\n",
        "# Take a look at the model\n",
        "model.summary()\n",
        "\n",
        "# Set an optimizer\n",
        "optimizer = Adam(learning_rate=1e-03)\n",
        "\n",
        "# Compile the model\n",
        "model.compile(\n",
        "    optimizer = optimizer,\n",
        "    loss = 'binary_crossentropy',\n",
        "    metrics = [jaccardAccuracy])\n",
        "\n",
        "# Fit the model\n",
        "history = model.fit(\n",
        "    x={'input_ids': x['input_ids']},\n",
        "    y=y,\n",
        "    validation_data = ({'input_ids': dev_x['input_ids']},dev_y),\n",
        "    class_weight = class_weights,\n",
        "    batch_size=256,\n",
        "    epochs=192)"
      ],
      "execution_count": null,
      "outputs": []
    },
    {
      "cell_type": "code",
      "metadata": {
        "trusted": true,
        "id": "XivngpkSfiMi"
      },
      "source": [
        "printHistory(history)"
      ],
      "execution_count": null,
      "outputs": []
    },
    {
      "cell_type": "code",
      "metadata": {
        "trusted": true,
        "id": "ohZlCrxAfiMj"
      },
      "source": [
        "plotHistory(history, plot_type='loss', ylim=[0, 3])"
      ],
      "execution_count": null,
      "outputs": []
    },
    {
      "cell_type": "code",
      "metadata": {
        "trusted": true,
        "id": "WCsikTa-fiMk"
      },
      "source": [
        "plotHistory(history, plot_type='jaccardAccuracy')"
      ],
      "execution_count": null,
      "outputs": []
    },
    {
      "cell_type": "code",
      "metadata": {
        "trusted": true,
        "id": "9SRAeteAfiMk"
      },
      "source": [
        "y_pred = model.predict({'input_ids': x['input_ids']})\n",
        "y_pred = y_pred >= 0.5\n",
        "print('Emotion Train F1: ')\n",
        "printEmotionF1(y, y_pred, classes)\n",
        "\n",
        "print('###############')\n",
        "\n",
        "dev_y_pred = model.predict({'input_ids': dev_x['input_ids']})\n",
        "dev_y_pred = dev_y_pred >= 0.5\n",
        "print('Emotion Valid F1: ')\n",
        "printEmotionF1(dev_y, dev_y_pred, classes)\n"
      ],
      "execution_count": null,
      "outputs": []
    },
    {
      "cell_type": "markdown",
      "metadata": {
        "id": "l22TSBpbfiMl"
      },
      "source": [
        "# Multi Attention"
      ]
    },
    {
      "cell_type": "code",
      "metadata": {
        "id": "DWlGBoYDfiMm"
      },
      "source": [
        "class AttentionWh(layers.Layer):\n",
        "    def __init__(self, units=256, max_length=1):\n",
        "        super(AttentionWh, self).__init__()\n",
        "        w_init = tf.keras.initializers.GlorotUniform()\n",
        "        self.w = tf.Variable(\n",
        "            initial_value=w_init(shape=(1, 1, units), dtype=\"float32\"),\n",
        "            trainable=True,\n",
        "        )\n",
        "\n",
        "    def call(self, inputs):\n",
        "        #return tf.tile(self.w, [1,max_length,1])\n",
        "        attention = tf.keras.layers.Attention()([tf.tile(self.w, [1,max_length,1]), inputs])\n",
        "        #return tf.math.reduce_sum(attention, axis = 1)\n",
        "\n",
        "        return attention"
      ],
      "execution_count": null,
      "outputs": []
    },
    {
      "cell_type": "code",
      "metadata": {
        "colab": {
          "base_uri": "https://localhost:8080/"
        },
        "id": "9ewsduU8fiMm",
        "outputId": "51835a23-536d-4428-d0cd-ff824a53473b"
      },
      "source": [
        "class_weights = {}\n",
        "for key in classes:\n",
        "    class_weights[classes[key]] = num_sample / (label_frequent.loc[key])\n",
        "print(class_weights)"
      ],
      "execution_count": null,
      "outputs": [
        {
          "output_type": "stream",
          "text": [
            "{0: 2.5339265850945494, 1: 11.058252427184467, 2: 5.2609699769053115, 3: 5.826086956521739, 4: 3.765289256198347, 5: 4.05338078291815, 6: 4.0606060606060606, 7: 4.565130260521042, 8: 2.705463182897862, 9: 48.46808510638298, 10: 18.983333333333334}\n"
          ],
          "name": "stdout"
        }
      ]
    },
    {
      "cell_type": "code",
      "metadata": {
        "colab": {
          "base_uri": "https://localhost:8080/"
        },
        "id": "CmjpQRYrfiMm",
        "outputId": "d3d0b7c5-1454-4574-e977-7f6265ca5163"
      },
      "source": [
        "# Load the MainLayer\n",
        "bert = transformer_model.layers[0]\n",
        "bert.trainable = False\n",
        "\n",
        "# Build your model input\n",
        "input_ids = Input(shape=(max_length,), name='input_ids', dtype='int32')\n",
        "inputs = {'input_ids': input_ids}\n",
        "\n",
        "# Load the Transformers BERT model as a layer in a Keras model\n",
        "bert_model = bert(inputs)[0]\n",
        "batch_normalization_1 =  BatchNormalization(name='Bert_normalization')(bert_model)\n",
        "\n",
        "#Bidirectional GRU\n",
        "#biGRU = Bidirectional(GRU(64, return_sequences=True), merge_mode='concat')(batch_normalization_1)\n",
        "#batch_normalization_2 = BatchNormalization()(biGRU)\n",
        "#biLSTM_dropout = Dropout(0.2, name='biLSTM_dropout')(batch_normalization_2)\n",
        "\n",
        "#Attention on each emotion\n",
        "batch_normalization_atention = []\n",
        "for att in range(11):\n",
        "  attention = AttentionWh(units = config.hidden_size, max_length=max_length)(batch_normalization_1)\n",
        "  normalization = BatchNormalization(name='batch_normalization_atention_'+str(att))(attention)\n",
        "  batch_normalization_atention.append(normalization)\n",
        "\n",
        "#Bi GRU on each emotion\n",
        "batch_normalization_GRU = []\n",
        "for att in range(11):\n",
        "  biGRU = Bidirectional(GRU(64, return_sequences=False), merge_mode='concat')(batch_normalization_atention[att])\n",
        "  normalization = BatchNormalization(name='batch_normalization_GRU_'+str(att))(biGRU)\n",
        "  batch_normalization_GRU.append(normalization)\n",
        "\n",
        "#Dense layer on each emotion\n",
        "batch_normalization_dense = []\n",
        "for att in range(11):\n",
        "  dense = Dense(units=256, activation='relu',  name='dense_'+str(att))(batch_normalization_GRU[att])\n",
        "  normalization = BatchNormalization(name='batch_normalization_dense_'+str(att))(dense)\n",
        "  batch_normalization_dense.append(normalization)\n",
        "\n",
        "\n",
        "#output layer on each emotion\n",
        "output = []\n",
        "for att in range(11):\n",
        "  out = Dense(units=1, activation='sigmoid',  name='output_'+str(att))(batch_normalization_dense[att])\n",
        "  output.append(out)\n",
        "\n",
        "#Final output layer\n",
        "outputs = tf.keras.layers.Concatenate(name='outputs')(output)\n",
        "\n",
        "# And combine it all in a model object\n",
        "model = Model(inputs=inputs, outputs=outputs, name='BERT_MultiLabel_MultiClass')\n",
        "\n",
        "\n",
        "# Take a look at the model\n",
        "model.summary()\n",
        "\n",
        "# Set an optimizer\n",
        "optimizer = Adam(learning_rate=5e-03)\n",
        "\n",
        "# Compile the model\n",
        "model.compile(\n",
        "    optimizer = optimizer,\n",
        "    loss = 'binary_crossentropy',\n",
        "    metrics = [jaccardAccuracy])\n",
        "\n",
        "# Fit the model\n",
        "history = model.fit(\n",
        "    x={'input_ids': x['input_ids']},\n",
        "    y=y,\n",
        "    validation_data = ({'input_ids': dev_x['input_ids']},dev_y),\n",
        "    class_weight = class_weights,\n",
        "    batch_size=256,\n",
        "    #epochs=192)\n",
        "    epochs=60)"
      ],
      "execution_count": null,
      "outputs": [
        {
          "output_type": "stream",
          "text": [
            "Model: \"BERT_MultiLabel_MultiClass\"\n",
            "__________________________________________________________________________________________________\n",
            "Layer (type)                    Output Shape         Param #     Connected to                     \n",
            "==================================================================================================\n",
            "input_ids (InputLayer)          [(None, 198)]        0                                            \n",
            "__________________________________________________________________________________________________\n",
            "bert (TFBertMainLayer)          TFBaseModelOutputWit 11548928    input_ids[0][0]                  \n",
            "__________________________________________________________________________________________________\n",
            "Bert_normalization (BatchNormal (None, 198, 256)     1024        bert[4][5]                       \n",
            "__________________________________________________________________________________________________\n",
            "attention_wh_44 (AttentionWh)   (None, 198, 256)     256         Bert_normalization[0][0]         \n",
            "__________________________________________________________________________________________________\n",
            "attention_wh_45 (AttentionWh)   (None, 198, 256)     256         Bert_normalization[0][0]         \n",
            "__________________________________________________________________________________________________\n",
            "attention_wh_46 (AttentionWh)   (None, 198, 256)     256         Bert_normalization[0][0]         \n",
            "__________________________________________________________________________________________________\n",
            "attention_wh_47 (AttentionWh)   (None, 198, 256)     256         Bert_normalization[0][0]         \n",
            "__________________________________________________________________________________________________\n",
            "attention_wh_48 (AttentionWh)   (None, 198, 256)     256         Bert_normalization[0][0]         \n",
            "__________________________________________________________________________________________________\n",
            "attention_wh_49 (AttentionWh)   (None, 198, 256)     256         Bert_normalization[0][0]         \n",
            "__________________________________________________________________________________________________\n",
            "attention_wh_50 (AttentionWh)   (None, 198, 256)     256         Bert_normalization[0][0]         \n",
            "__________________________________________________________________________________________________\n",
            "attention_wh_51 (AttentionWh)   (None, 198, 256)     256         Bert_normalization[0][0]         \n",
            "__________________________________________________________________________________________________\n",
            "attention_wh_52 (AttentionWh)   (None, 198, 256)     256         Bert_normalization[0][0]         \n",
            "__________________________________________________________________________________________________\n",
            "attention_wh_53 (AttentionWh)   (None, 198, 256)     256         Bert_normalization[0][0]         \n",
            "__________________________________________________________________________________________________\n",
            "attention_wh_54 (AttentionWh)   (None, 198, 256)     256         Bert_normalization[0][0]         \n",
            "__________________________________________________________________________________________________\n",
            "batch_normalization_atention_0  (None, 198, 256)     1024        attention_wh_44[0][0]            \n",
            "__________________________________________________________________________________________________\n",
            "batch_normalization_atention_1  (None, 198, 256)     1024        attention_wh_45[0][0]            \n",
            "__________________________________________________________________________________________________\n",
            "batch_normalization_atention_2  (None, 198, 256)     1024        attention_wh_46[0][0]            \n",
            "__________________________________________________________________________________________________\n",
            "batch_normalization_atention_3  (None, 198, 256)     1024        attention_wh_47[0][0]            \n",
            "__________________________________________________________________________________________________\n",
            "batch_normalization_atention_4  (None, 198, 256)     1024        attention_wh_48[0][0]            \n",
            "__________________________________________________________________________________________________\n",
            "batch_normalization_atention_5  (None, 198, 256)     1024        attention_wh_49[0][0]            \n",
            "__________________________________________________________________________________________________\n",
            "batch_normalization_atention_6  (None, 198, 256)     1024        attention_wh_50[0][0]            \n",
            "__________________________________________________________________________________________________\n",
            "batch_normalization_atention_7  (None, 198, 256)     1024        attention_wh_51[0][0]            \n",
            "__________________________________________________________________________________________________\n",
            "batch_normalization_atention_8  (None, 198, 256)     1024        attention_wh_52[0][0]            \n",
            "__________________________________________________________________________________________________\n",
            "batch_normalization_atention_9  (None, 198, 256)     1024        attention_wh_53[0][0]            \n",
            "__________________________________________________________________________________________________\n",
            "batch_normalization_atention_10 (None, 198, 256)     1024        attention_wh_54[0][0]            \n",
            "__________________________________________________________________________________________________\n",
            "bidirectional_44 (Bidirectional (None, 128)          123648      batch_normalization_atention_0[0]\n",
            "__________________________________________________________________________________________________\n",
            "bidirectional_45 (Bidirectional (None, 128)          123648      batch_normalization_atention_1[0]\n",
            "__________________________________________________________________________________________________\n",
            "bidirectional_46 (Bidirectional (None, 128)          123648      batch_normalization_atention_2[0]\n",
            "__________________________________________________________________________________________________\n",
            "bidirectional_47 (Bidirectional (None, 128)          123648      batch_normalization_atention_3[0]\n",
            "__________________________________________________________________________________________________\n",
            "bidirectional_48 (Bidirectional (None, 128)          123648      batch_normalization_atention_4[0]\n",
            "__________________________________________________________________________________________________\n",
            "bidirectional_49 (Bidirectional (None, 128)          123648      batch_normalization_atention_5[0]\n",
            "__________________________________________________________________________________________________\n",
            "bidirectional_50 (Bidirectional (None, 128)          123648      batch_normalization_atention_6[0]\n",
            "__________________________________________________________________________________________________\n",
            "bidirectional_51 (Bidirectional (None, 128)          123648      batch_normalization_atention_7[0]\n",
            "__________________________________________________________________________________________________\n",
            "bidirectional_52 (Bidirectional (None, 128)          123648      batch_normalization_atention_8[0]\n",
            "__________________________________________________________________________________________________\n",
            "bidirectional_53 (Bidirectional (None, 128)          123648      batch_normalization_atention_9[0]\n",
            "__________________________________________________________________________________________________\n",
            "bidirectional_54 (Bidirectional (None, 128)          123648      batch_normalization_atention_10[0\n",
            "__________________________________________________________________________________________________\n",
            "batch_normalization_GRU_0 (Batc (None, 128)          512         bidirectional_44[0][0]           \n",
            "__________________________________________________________________________________________________\n",
            "batch_normalization_GRU_1 (Batc (None, 128)          512         bidirectional_45[0][0]           \n",
            "__________________________________________________________________________________________________\n",
            "batch_normalization_GRU_2 (Batc (None, 128)          512         bidirectional_46[0][0]           \n",
            "__________________________________________________________________________________________________\n",
            "batch_normalization_GRU_3 (Batc (None, 128)          512         bidirectional_47[0][0]           \n",
            "__________________________________________________________________________________________________\n",
            "batch_normalization_GRU_4 (Batc (None, 128)          512         bidirectional_48[0][0]           \n",
            "__________________________________________________________________________________________________\n",
            "batch_normalization_GRU_5 (Batc (None, 128)          512         bidirectional_49[0][0]           \n",
            "__________________________________________________________________________________________________\n",
            "batch_normalization_GRU_6 (Batc (None, 128)          512         bidirectional_50[0][0]           \n",
            "__________________________________________________________________________________________________\n",
            "batch_normalization_GRU_7 (Batc (None, 128)          512         bidirectional_51[0][0]           \n",
            "__________________________________________________________________________________________________\n",
            "batch_normalization_GRU_8 (Batc (None, 128)          512         bidirectional_52[0][0]           \n",
            "__________________________________________________________________________________________________\n",
            "batch_normalization_GRU_9 (Batc (None, 128)          512         bidirectional_53[0][0]           \n",
            "__________________________________________________________________________________________________\n",
            "batch_normalization_GRU_10 (Bat (None, 128)          512         bidirectional_54[0][0]           \n",
            "__________________________________________________________________________________________________\n",
            "dense_0 (Dense)                 (None, 256)          33024       batch_normalization_GRU_0[0][0]  \n",
            "__________________________________________________________________________________________________\n",
            "dense_1 (Dense)                 (None, 256)          33024       batch_normalization_GRU_1[0][0]  \n",
            "__________________________________________________________________________________________________\n",
            "dense_2 (Dense)                 (None, 256)          33024       batch_normalization_GRU_2[0][0]  \n",
            "__________________________________________________________________________________________________\n",
            "dense_3 (Dense)                 (None, 256)          33024       batch_normalization_GRU_3[0][0]  \n",
            "__________________________________________________________________________________________________\n",
            "dense_4 (Dense)                 (None, 256)          33024       batch_normalization_GRU_4[0][0]  \n",
            "__________________________________________________________________________________________________\n",
            "dense_5 (Dense)                 (None, 256)          33024       batch_normalization_GRU_5[0][0]  \n",
            "__________________________________________________________________________________________________\n",
            "dense_6 (Dense)                 (None, 256)          33024       batch_normalization_GRU_6[0][0]  \n",
            "__________________________________________________________________________________________________\n",
            "dense_7 (Dense)                 (None, 256)          33024       batch_normalization_GRU_7[0][0]  \n",
            "__________________________________________________________________________________________________\n",
            "dense_8 (Dense)                 (None, 256)          33024       batch_normalization_GRU_8[0][0]  \n",
            "__________________________________________________________________________________________________\n",
            "dense_9 (Dense)                 (None, 256)          33024       batch_normalization_GRU_9[0][0]  \n",
            "__________________________________________________________________________________________________\n",
            "dense_10 (Dense)                (None, 256)          33024       batch_normalization_GRU_10[0][0] \n",
            "__________________________________________________________________________________________________\n",
            "batch_normalization_dense_0 (Ba (None, 256)          1024        dense_0[0][0]                    \n",
            "__________________________________________________________________________________________________\n",
            "batch_normalization_dense_1 (Ba (None, 256)          1024        dense_1[0][0]                    \n",
            "__________________________________________________________________________________________________\n",
            "batch_normalization_dense_2 (Ba (None, 256)          1024        dense_2[0][0]                    \n",
            "__________________________________________________________________________________________________\n",
            "batch_normalization_dense_3 (Ba (None, 256)          1024        dense_3[0][0]                    \n",
            "__________________________________________________________________________________________________\n",
            "batch_normalization_dense_4 (Ba (None, 256)          1024        dense_4[0][0]                    \n",
            "__________________________________________________________________________________________________\n",
            "batch_normalization_dense_5 (Ba (None, 256)          1024        dense_5[0][0]                    \n",
            "__________________________________________________________________________________________________\n",
            "batch_normalization_dense_6 (Ba (None, 256)          1024        dense_6[0][0]                    \n",
            "__________________________________________________________________________________________________\n",
            "batch_normalization_dense_7 (Ba (None, 256)          1024        dense_7[0][0]                    \n",
            "__________________________________________________________________________________________________\n",
            "batch_normalization_dense_8 (Ba (None, 256)          1024        dense_8[0][0]                    \n",
            "__________________________________________________________________________________________________\n",
            "batch_normalization_dense_9 (Ba (None, 256)          1024        dense_9[0][0]                    \n",
            "__________________________________________________________________________________________________\n",
            "batch_normalization_dense_10 (B (None, 256)          1024        dense_10[0][0]                   \n",
            "__________________________________________________________________________________________________\n",
            "output_0 (Dense)                (None, 1)            257         batch_normalization_dense_0[0][0]\n",
            "__________________________________________________________________________________________________\n",
            "output_1 (Dense)                (None, 1)            257         batch_normalization_dense_1[0][0]\n",
            "__________________________________________________________________________________________________\n",
            "output_2 (Dense)                (None, 1)            257         batch_normalization_dense_2[0][0]\n",
            "__________________________________________________________________________________________________\n",
            "output_3 (Dense)                (None, 1)            257         batch_normalization_dense_3[0][0]\n",
            "__________________________________________________________________________________________________\n",
            "output_4 (Dense)                (None, 1)            257         batch_normalization_dense_4[0][0]\n",
            "__________________________________________________________________________________________________\n",
            "output_5 (Dense)                (None, 1)            257         batch_normalization_dense_5[0][0]\n",
            "__________________________________________________________________________________________________\n",
            "output_6 (Dense)                (None, 1)            257         batch_normalization_dense_6[0][0]\n",
            "__________________________________________________________________________________________________\n",
            "output_7 (Dense)                (None, 1)            257         batch_normalization_dense_7[0][0]\n",
            "__________________________________________________________________________________________________\n",
            "output_8 (Dense)                (None, 1)            257         batch_normalization_dense_8[0][0]\n",
            "__________________________________________________________________________________________________\n",
            "output_9 (Dense)                (None, 1)            257         batch_normalization_dense_9[0][0]\n",
            "__________________________________________________________________________________________________\n",
            "output_10 (Dense)               (None, 1)            257         batch_normalization_dense_10[0][0\n",
            "__________________________________________________________________________________________________\n",
            "outputs (Concatenate)           (None, 11)           0           output_0[0][0]                   \n",
            "                                                                 output_1[0][0]                   \n",
            "                                                                 output_2[0][0]                   \n",
            "                                                                 output_3[0][0]                   \n",
            "                                                                 output_4[0][0]                   \n",
            "                                                                 output_5[0][0]                   \n",
            "                                                                 output_6[0][0]                   \n",
            "                                                                 output_7[0][0]                   \n",
            "                                                                 output_8[0][0]                   \n",
            "                                                                 output_9[0][0]                   \n",
            "                                                                 output_10[0][0]                  \n",
            "==================================================================================================\n",
            "Total params: 13,307,147\n",
            "Trainable params: 1,743,627\n",
            "Non-trainable params: 11,563,520\n",
            "__________________________________________________________________________________________________\n",
            "Epoch 1/60\n",
            "9/9 [==============================] - 50s 2s/step - loss: 3.9910 - jaccardAccuracy: 0.1906 - val_loss: 0.5814 - val_jaccardAccuracy: 0.2407\n",
            "Epoch 2/60\n",
            "9/9 [==============================] - 7s 834ms/step - loss: 2.2512 - jaccardAccuracy: 0.2158 - val_loss: 0.5120 - val_jaccardAccuracy: 0.1640\n",
            "Epoch 3/60\n",
            "9/9 [==============================] - 7s 834ms/step - loss: 1.8429 - jaccardAccuracy: 0.2436 - val_loss: 0.4907 - val_jaccardAccuracy: 0.1613\n",
            "Epoch 4/60\n",
            "9/9 [==============================] - 7s 833ms/step - loss: 1.6457 - jaccardAccuracy: 0.2781 - val_loss: 0.4665 - val_jaccardAccuracy: 0.1094\n",
            "Epoch 5/60\n",
            "9/9 [==============================] - 7s 834ms/step - loss: 1.5157 - jaccardAccuracy: 0.3327 - val_loss: 0.4588 - val_jaccardAccuracy: 0.1746\n",
            "Epoch 6/60\n",
            "9/9 [==============================] - 7s 833ms/step - loss: 1.4617 - jaccardAccuracy: 0.3721 - val_loss: 0.4557 - val_jaccardAccuracy: 0.1958\n",
            "Epoch 7/60\n",
            "9/9 [==============================] - 7s 833ms/step - loss: 1.3764 - jaccardAccuracy: 0.4104 - val_loss: 0.4449 - val_jaccardAccuracy: 0.2226\n",
            "Epoch 8/60\n",
            "9/9 [==============================] - 7s 834ms/step - loss: 1.3164 - jaccardAccuracy: 0.4399 - val_loss: 0.4417 - val_jaccardAccuracy: 0.2294\n",
            "Epoch 9/60\n",
            "9/9 [==============================] - 7s 836ms/step - loss: 1.2757 - jaccardAccuracy: 0.4568 - val_loss: 0.4460 - val_jaccardAccuracy: 0.1926\n",
            "Epoch 10/60\n",
            "9/9 [==============================] - 7s 835ms/step - loss: 1.2106 - jaccardAccuracy: 0.4752 - val_loss: 0.4422 - val_jaccardAccuracy: 0.1927\n",
            "Epoch 11/60\n",
            "9/9 [==============================] - 7s 834ms/step - loss: 1.1168 - jaccardAccuracy: 0.5156 - val_loss: 0.4492 - val_jaccardAccuracy: 0.1886\n",
            "Epoch 12/60\n",
            "9/9 [==============================] - 7s 834ms/step - loss: 1.0599 - jaccardAccuracy: 0.5416 - val_loss: 0.4842 - val_jaccardAccuracy: 0.1724\n",
            "Epoch 13/60\n",
            "9/9 [==============================] - 7s 835ms/step - loss: 1.0220 - jaccardAccuracy: 0.5605 - val_loss: 0.4882 - val_jaccardAccuracy: 0.1680\n",
            "Epoch 14/60\n",
            "9/9 [==============================] - 7s 832ms/step - loss: 0.9840 - jaccardAccuracy: 0.5765 - val_loss: 0.5023 - val_jaccardAccuracy: 0.2103\n",
            "Epoch 15/60\n",
            "9/9 [==============================] - 7s 835ms/step - loss: 0.8752 - jaccardAccuracy: 0.6163 - val_loss: 0.4955 - val_jaccardAccuracy: 0.2168\n",
            "Epoch 16/60\n",
            "9/9 [==============================] - 7s 833ms/step - loss: 0.8475 - jaccardAccuracy: 0.6425 - val_loss: 0.4995 - val_jaccardAccuracy: 0.2351\n",
            "Epoch 17/60\n",
            "9/9 [==============================] - 7s 834ms/step - loss: 0.7944 - jaccardAccuracy: 0.6613 - val_loss: 0.4956 - val_jaccardAccuracy: 0.2231\n",
            "Epoch 18/60\n",
            "9/9 [==============================] - 7s 835ms/step - loss: 0.7450 - jaccardAccuracy: 0.6799 - val_loss: 0.5088 - val_jaccardAccuracy: 0.2243\n",
            "Epoch 19/60\n",
            "9/9 [==============================] - 7s 833ms/step - loss: 0.7126 - jaccardAccuracy: 0.7029 - val_loss: 0.5156 - val_jaccardAccuracy: 0.2253\n",
            "Epoch 20/60\n",
            "9/9 [==============================] - 7s 836ms/step - loss: 0.6804 - jaccardAccuracy: 0.7076 - val_loss: 0.5140 - val_jaccardAccuracy: 0.2568\n",
            "Epoch 21/60\n",
            "9/9 [==============================] - 7s 836ms/step - loss: 0.6206 - jaccardAccuracy: 0.7415 - val_loss: 0.5508 - val_jaccardAccuracy: 0.2910\n",
            "Epoch 22/60\n",
            "9/9 [==============================] - 7s 833ms/step - loss: 0.5990 - jaccardAccuracy: 0.7468 - val_loss: 0.5494 - val_jaccardAccuracy: 0.2752\n",
            "Epoch 23/60\n",
            "9/9 [==============================] - 7s 833ms/step - loss: 0.5618 - jaccardAccuracy: 0.7694 - val_loss: 0.5839 - val_jaccardAccuracy: 0.2653\n",
            "Epoch 24/60\n",
            "9/9 [==============================] - 7s 834ms/step - loss: 0.5499 - jaccardAccuracy: 0.7640 - val_loss: 0.5833 - val_jaccardAccuracy: 0.2949\n",
            "Epoch 25/60\n",
            "9/9 [==============================] - 7s 835ms/step - loss: 0.5314 - jaccardAccuracy: 0.7784 - val_loss: 0.6299 - val_jaccardAccuracy: 0.2752\n",
            "Epoch 26/60\n",
            "9/9 [==============================] - 7s 831ms/step - loss: 0.5154 - jaccardAccuracy: 0.7788 - val_loss: 0.6480 - val_jaccardAccuracy: 0.2740\n",
            "Epoch 27/60\n",
            "9/9 [==============================] - 7s 832ms/step - loss: 0.4953 - jaccardAccuracy: 0.7856 - val_loss: 0.6555 - val_jaccardAccuracy: 0.3069\n",
            "Epoch 28/60\n",
            "9/9 [==============================] - 7s 834ms/step - loss: 0.4724 - jaccardAccuracy: 0.8022 - val_loss: 0.6335 - val_jaccardAccuracy: 0.2939\n",
            "Epoch 29/60\n",
            "9/9 [==============================] - 7s 836ms/step - loss: 0.4530 - jaccardAccuracy: 0.8201 - val_loss: 0.6339 - val_jaccardAccuracy: 0.3102\n",
            "Epoch 30/60\n",
            "9/9 [==============================] - 7s 834ms/step - loss: 0.4537 - jaccardAccuracy: 0.8131 - val_loss: 0.6458 - val_jaccardAccuracy: 0.3079\n",
            "Epoch 31/60\n",
            "9/9 [==============================] - 7s 834ms/step - loss: 0.4358 - jaccardAccuracy: 0.8181 - val_loss: 0.6565 - val_jaccardAccuracy: 0.3303\n",
            "Epoch 32/60\n",
            "9/9 [==============================] - 7s 833ms/step - loss: 0.4361 - jaccardAccuracy: 0.8202 - val_loss: 0.6852 - val_jaccardAccuracy: 0.3155\n",
            "Epoch 33/60\n",
            "9/9 [==============================] - 7s 835ms/step - loss: 0.4182 - jaccardAccuracy: 0.8300 - val_loss: 0.6890 - val_jaccardAccuracy: 0.3262\n",
            "Epoch 34/60\n",
            "9/9 [==============================] - 7s 834ms/step - loss: 0.4431 - jaccardAccuracy: 0.8165 - val_loss: 0.6977 - val_jaccardAccuracy: 0.3463\n",
            "Epoch 35/60\n",
            "9/9 [==============================] - 7s 832ms/step - loss: 0.3972 - jaccardAccuracy: 0.8443 - val_loss: 0.7016 - val_jaccardAccuracy: 0.3369\n",
            "Epoch 36/60\n",
            "9/9 [==============================] - 7s 835ms/step - loss: 0.3863 - jaccardAccuracy: 0.8394 - val_loss: 0.7042 - val_jaccardAccuracy: 0.3320\n",
            "Epoch 37/60\n",
            "9/9 [==============================] - 7s 833ms/step - loss: 0.3654 - jaccardAccuracy: 0.8553 - val_loss: 0.7431 - val_jaccardAccuracy: 0.3139\n",
            "Epoch 38/60\n",
            "9/9 [==============================] - 7s 833ms/step - loss: 0.3876 - jaccardAccuracy: 0.8472 - val_loss: 0.7470 - val_jaccardAccuracy: 0.3505\n",
            "Epoch 39/60\n",
            "9/9 [==============================] - 7s 834ms/step - loss: 0.3567 - jaccardAccuracy: 0.8533 - val_loss: 0.7715 - val_jaccardAccuracy: 0.3308\n",
            "Epoch 40/60\n",
            "9/9 [==============================] - 7s 834ms/step - loss: 0.3525 - jaccardAccuracy: 0.8553 - val_loss: 0.7935 - val_jaccardAccuracy: 0.3226\n",
            "Epoch 41/60\n",
            "9/9 [==============================] - 7s 837ms/step - loss: 0.3268 - jaccardAccuracy: 0.8681 - val_loss: 0.7598 - val_jaccardAccuracy: 0.3154\n",
            "Epoch 42/60\n",
            "9/9 [==============================] - 7s 834ms/step - loss: 0.3485 - jaccardAccuracy: 0.8527 - val_loss: 0.7798 - val_jaccardAccuracy: 0.3397\n",
            "Epoch 43/60\n",
            "9/9 [==============================] - 7s 832ms/step - loss: 0.3191 - jaccardAccuracy: 0.8697 - val_loss: 0.7982 - val_jaccardAccuracy: 0.3104\n",
            "Epoch 44/60\n",
            "9/9 [==============================] - 7s 834ms/step - loss: 0.3163 - jaccardAccuracy: 0.8656 - val_loss: 0.7952 - val_jaccardAccuracy: 0.3479\n",
            "Epoch 45/60\n",
            "9/9 [==============================] - 7s 833ms/step - loss: 0.3243 - jaccardAccuracy: 0.8655 - val_loss: 0.7955 - val_jaccardAccuracy: 0.3501\n",
            "Epoch 46/60\n",
            "9/9 [==============================] - 7s 835ms/step - loss: 0.2868 - jaccardAccuracy: 0.8817 - val_loss: 0.7889 - val_jaccardAccuracy: 0.3258\n",
            "Epoch 47/60\n",
            "9/9 [==============================] - 7s 833ms/step - loss: 0.2930 - jaccardAccuracy: 0.8722 - val_loss: 0.8210 - val_jaccardAccuracy: 0.3362\n",
            "Epoch 48/60\n",
            "9/9 [==============================] - 7s 835ms/step - loss: 0.3045 - jaccardAccuracy: 0.8711 - val_loss: 0.8297 - val_jaccardAccuracy: 0.3386\n",
            "Epoch 49/60\n",
            "9/9 [==============================] - 7s 837ms/step - loss: 0.2647 - jaccardAccuracy: 0.8912 - val_loss: 0.8086 - val_jaccardAccuracy: 0.3530\n",
            "Epoch 50/60\n",
            "9/9 [==============================] - 7s 834ms/step - loss: 0.2750 - jaccardAccuracy: 0.8846 - val_loss: 0.8272 - val_jaccardAccuracy: 0.3623\n",
            "Epoch 51/60\n",
            "9/9 [==============================] - 7s 832ms/step - loss: 0.2588 - jaccardAccuracy: 0.8852 - val_loss: 0.8391 - val_jaccardAccuracy: 0.3689\n",
            "Epoch 52/60\n",
            "9/9 [==============================] - 7s 832ms/step - loss: 0.2535 - jaccardAccuracy: 0.8905 - val_loss: 0.8207 - val_jaccardAccuracy: 0.3431\n",
            "Epoch 53/60\n",
            "9/9 [==============================] - 7s 834ms/step - loss: 0.2664 - jaccardAccuracy: 0.8858 - val_loss: 0.8324 - val_jaccardAccuracy: 0.3324\n",
            "Epoch 54/60\n",
            "9/9 [==============================] - 7s 833ms/step - loss: 0.2604 - jaccardAccuracy: 0.8839 - val_loss: 0.8486 - val_jaccardAccuracy: 0.3381\n",
            "Epoch 55/60\n",
            "9/9 [==============================] - 7s 834ms/step - loss: 0.2433 - jaccardAccuracy: 0.8897 - val_loss: 0.8409 - val_jaccardAccuracy: 0.3514\n",
            "Epoch 56/60\n",
            "9/9 [==============================] - 7s 834ms/step - loss: 0.2471 - jaccardAccuracy: 0.8826 - val_loss: 0.8503 - val_jaccardAccuracy: 0.3371\n",
            "Epoch 57/60\n",
            "9/9 [==============================] - 7s 834ms/step - loss: 0.2350 - jaccardAccuracy: 0.8902 - val_loss: 0.8352 - val_jaccardAccuracy: 0.3497\n",
            "Epoch 58/60\n",
            "9/9 [==============================] - 7s 834ms/step - loss: 0.2207 - jaccardAccuracy: 0.8971 - val_loss: 0.8423 - val_jaccardAccuracy: 0.3531\n",
            "Epoch 59/60\n",
            "9/9 [==============================] - 7s 833ms/step - loss: 0.2083 - jaccardAccuracy: 0.9015 - val_loss: 0.8514 - val_jaccardAccuracy: 0.3533\n",
            "Epoch 60/60\n",
            "9/9 [==============================] - 7s 835ms/step - loss: 0.2092 - jaccardAccuracy: 0.9105 - val_loss: 0.8652 - val_jaccardAccuracy: 0.3470\n"
          ],
          "name": "stdout"
        }
      ]
    },
    {
      "cell_type": "code",
      "metadata": {
        "colab": {
          "base_uri": "https://localhost:8080/"
        },
        "id": "nbbAfhEohr6D",
        "outputId": "32eac0d6-86d5-472d-b37e-8460fd7c3dcd"
      },
      "source": [
        "printHistory(history)"
      ],
      "execution_count": null,
      "outputs": [
        {
          "output_type": "stream",
          "text": [
            "loss :  0.5505300760269165\n",
            "jaccardAccuracy :  0.7666073441505432\n",
            "val_loss :  0.4848020374774933\n",
            "val_jaccardAccuracy :  0.3229770362377167\n"
          ],
          "name": "stdout"
        }
      ]
    },
    {
      "cell_type": "code",
      "metadata": {
        "colab": {
          "base_uri": "https://localhost:8080/",
          "height": 295
        },
        "id": "Up99mq8zi7Ah",
        "outputId": "e1467ed3-9b80-4210-a7ad-7cf82c5094c5"
      },
      "source": [
        "plotHistory(history, plot_type='loss', ylim=[0, 3])"
      ],
      "execution_count": null,
      "outputs": [
        {
          "output_type": "display_data",
          "data": {
            "image/png": "[encoded data removed]",
            "text/plain": [
              "<Figure size 432x288 with 1 Axes>"
            ]
          },
          "metadata": {
            "tags": [],
            "needs_background": "light"
          }
        }
      ]
    },
    {
      "cell_type": "code",
      "metadata": {
        "colab": {
          "base_uri": "https://localhost:8080/",
          "height": 295
        },
        "id": "b6ljV5OejRbf",
        "outputId": "7754f996-a957-4d2c-eaaa-4624b755604c"
      },
      "source": [
        "plotHistory(history, plot_type='jaccardAccuracy')"
      ],
      "execution_count": null,
      "outputs": [
        {
          "output_type": "display_data",
          "data": {
            "image/png": "[encoded data removed]",
            "text/plain": [
              "<Figure size 432x288 with 1 Axes>"
            ]
          },
          "metadata": {
            "tags": [],
            "needs_background": "light"
          }
        }
      ]
    },
    {
      "cell_type": "code",
      "metadata": {
        "colab": {
          "base_uri": "https://localhost:8080/"
        },
        "id": "d_3-9W1ojT7H",
        "outputId": "1beef548-2f6b-494c-e286-dba8148fc9b0"
      },
      "source": [
        "y_pred = model.predict({'input_ids': x['input_ids']})\n",
        "y_pred = y_pred >= 0.5\n",
        "print('Emotion Train F1: ')\n",
        "printEmotionF1(y, y_pred, classes)\n",
        "\n",
        "print('###############')\n",
        "\n",
        "dev_y_pred = model.predict({'input_ids': dev_x['input_ids']})\n",
        "dev_y_pred = dev_y_pred >= 0.5\n",
        "print('Emotion Valid F1: ')\n",
        "printEmotionF1(dev_y, dev_y_pred, classes)\n"
      ],
      "execution_count": null,
      "outputs": [
        {
          "output_type": "stream",
          "text": [
            "Emotion Train F1: \n",
            "anger :  91.87319884726224 %\n",
            "anticipation :  64.02640264026402 %\n",
            "disgust :  90.54224464060529 %\n",
            "fear :  91.86206896551725 %\n",
            "joy :  95.35080304311073 %\n",
            "love :  94.4922547332186 %\n",
            "optimism :  92.10754553339115 %\n",
            "pessimism :  67.98418972332017 %\n",
            "sadness :  93.58128374325135 %\n",
            "surprise :  88.0952380952381 %\n",
            "trust :  85.71428571428571 %\n",
            "###############\n",
            "Emotion Valid F1: \n",
            "anger :  62.679425837320565 %\n",
            "anticipation :  0.0 %\n",
            "disgust :  24.113475177304963 %\n",
            "fear :  44.5945945945946 %\n",
            "joy :  62.30529595015576 %\n",
            "love :  62.06896551724138 %\n",
            "optimism :  57.14285714285715 %\n",
            "pessimism :  11.188811188811187 %\n",
            "sadness :  51.85185185185185 %\n",
            "surprise :  14.285714285714288 %\n",
            "trust :  0.0 %\n"
          ],
          "name": "stdout"
        }
      ]
    },
    {
      "cell_type": "code",
      "metadata": {
        "id": "VjJGZ2jqlo8X"
      },
      "source": [],
      "execution_count": null,
      "outputs": []
    },
    {
      "cell_type": "code",
      "metadata": {
        "id": "Y9zhd3tu2YtF"
      },
      "source": [
        "tweets = model.predict({'input_ids': x['input_ids']})\n",
        "dev_tweets = model.predict({'input_ids': dev_x['input_ids']})"
      ],
      "execution_count": null,
      "outputs": []
    },
    {
      "cell_type": "code",
      "metadata": {
        "colab": {
          "base_uri": "https://localhost:8080/",
          "height": 193
        },
        "id": "P1JGBerivMqv",
        "outputId": "6e9df5a5-6d0c-4798-d5dc-f3a67a3fcb90"
      },
      "source": [
        "svm = SVC(decision_function_shape='ovo')\n",
        "svm = svm.fit(tweets, y, verbose=True)"
      ],
      "execution_count": null,
      "outputs": [
        {
          "output_type": "error",
          "ename": "NameError",
          "evalue": "ignored",
          "traceback": [
            "\u001b[0;31m---------------------------------------------------------------------------\u001b[0m",
            "\u001b[0;31mNameError\u001b[0m                                 Traceback (most recent call last)",
            "\u001b[0;32m<ipython-input-1-816310ebd5b3>\u001b[0m in \u001b[0;36m<module>\u001b[0;34m()\u001b[0m\n\u001b[0;32m----> 1\u001b[0;31m \u001b[0msvm\u001b[0m \u001b[0;34m=\u001b[0m \u001b[0mSVC\u001b[0m\u001b[0;34m(\u001b[0m\u001b[0mdecision_function_shape\u001b[0m\u001b[0;34m=\u001b[0m\u001b[0;34m'ovo'\u001b[0m\u001b[0;34m)\u001b[0m\u001b[0;34m\u001b[0m\u001b[0;34m\u001b[0m\u001b[0m\n\u001b[0m\u001b[1;32m      2\u001b[0m \u001b[0msvm\u001b[0m \u001b[0;34m=\u001b[0m \u001b[0msvm\u001b[0m\u001b[0;34m.\u001b[0m\u001b[0mfit\u001b[0m\u001b[0;34m(\u001b[0m\u001b[0mtweets\u001b[0m\u001b[0;34m,\u001b[0m \u001b[0my\u001b[0m\u001b[0;34m,\u001b[0m \u001b[0mverbose\u001b[0m\u001b[0;34m=\u001b[0m\u001b[0;32mTrue\u001b[0m\u001b[0;34m)\u001b[0m\u001b[0;34m\u001b[0m\u001b[0;34m\u001b[0m\u001b[0m\n",
            "\u001b[0;31mNameError\u001b[0m: name 'SVC' is not defined"
          ]
        }
      ]
    },
    {
      "cell_type": "code",
      "metadata": {
        "colab": {
          "base_uri": "https://localhost:8080/"
        },
        "id": "kiXL_A1v4j1I",
        "outputId": "dfca5df3-2e20-4498-8378-cb8bcc6544bc"
      },
      "source": [
        "from sklearn.svm import SVC\n",
        "emotion_svm = []\n",
        "for k in range(11):\n",
        "  svm = SVC()\n",
        "  svm = svm.fit(tweets, y[:, k], verbose=True)\n",
        "  emotion_svm.append(svm)\n",
        "\n"
      ],
      "execution_count": null,
      "outputs": [
        {
          "output_type": "stream",
          "text": [
            "[LibSVM][LibSVM][LibSVM][LibSVM][LibSVM][LibSVM][LibSVM][LibSVM][LibSVM][LibSVM][LibSVM]"
          ],
          "name": "stdout"
        }
      ]
    },
    {
      "cell_type": "code",
      "metadata": {
        "colab": {
          "base_uri": "https://localhost:8080/"
        },
        "id": "c_SRed3q4joy",
        "outputId": "f4251d29-5ff6-466f-e3c1-addddcdb2718"
      },
      "source": [
        "y_pred = np.zeros(y.shape)\n",
        "for k in range(11):\n",
        "  print(emotion_svm[k].predict(tweets).sum())\n"
      ],
      "execution_count": null,
      "outputs": [
        {
          "output_type": "stream",
          "text": [
            "0.0\n",
            "0.0\n",
            "0.0\n",
            "0.0\n",
            "0.0\n",
            "0.0\n",
            "0.0\n",
            "0.0\n",
            "0.0\n",
            "0.0\n",
            "0.0\n"
          ],
          "name": "stdout"
        }
      ]
    },
    {
      "cell_type": "code",
      "metadata": {
        "colab": {
          "base_uri": "https://localhost:8080/"
        },
        "id": "nXtA0DRM8CUY",
        "outputId": "c563adbb-cb25-41cc-c9e1-a468051c2433"
      },
      "source": [
        "y_pred.shape"
      ],
      "execution_count": null,
      "outputs": [
        {
          "output_type": "execute_result",
          "data": {
            "text/plain": [
              "(2278, 11)"
            ]
          },
          "metadata": {
            "tags": []
          },
          "execution_count": 35
        }
      ]
    },
    {
      "cell_type": "code",
      "metadata": {
        "id": "4a-x92br8CFL"
      },
      "source": [
        "y"
      ],
      "execution_count": null,
      "outputs": []
    },
    {
      "cell_type": "code",
      "metadata": {
        "colab": {
          "base_uri": "https://localhost:8080/"
        },
        "id": "O3YEgj1i2dBI",
        "outputId": "98b50d2e-9221-40cd-b962-1e98670e61cb"
      },
      "source": [
        "printJaccardAccuracy(y, y_pred)"
      ],
      "execution_count": null,
      "outputs": [
        {
          "output_type": "stream",
          "text": [
            "/usr/local/lib/python3.7/dist-packages/ipykernel_launcher.py:4: RuntimeWarning: invalid value encountered in true_divide\n",
            "  after removing the cwd from sys.path.\n"
          ],
          "name": "stderr"
        },
        {
          "output_type": "execute_result",
          "data": {
            "text/plain": [
              "nan"
            ]
          },
          "metadata": {
            "tags": []
          },
          "execution_count": 33
        }
      ]
    },
    {
      "cell_type": "code",
      "metadata": {
        "id": "korIGqHF2YmK"
      },
      "source": [
        "y_pred = model.predict({'input_ids': x['input_ids']})\n",
        "y_pred = y_pred >= 0.5\n",
        "print('Emotion Train F1: ')\n",
        "printEmotionF1(y, y_pred, classes)\n",
        "\n",
        "print('###############')\n",
        "\n",
        "dev_y_pred = model.predict({'input_ids': dev_x['input_ids']})\n",
        "dev_y_pred = dev_y_pred >= 0.5\n",
        "print('Emotion Valid F1: ')\n",
        "printEmotionF1(dev_y, dev_y_pred, classes)\n"
      ],
      "execution_count": null,
      "outputs": []
    }
  ]
}